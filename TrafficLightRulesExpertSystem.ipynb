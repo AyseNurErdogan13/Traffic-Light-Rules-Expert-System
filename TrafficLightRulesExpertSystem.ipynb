{
  "nbformat": 4,
  "nbformat_minor": 0,
  "metadata": {
    "colab": {
      "provenance": []
    },
    "kernelspec": {
      "name": "python3",
      "display_name": "Python 3"
    },
    "language_info": {
      "name": "python"
    }
  },
  "cells": [
    {
      "cell_type": "markdown",
      "source": [
        "With this application, using expert systems structure, rules were determined according to traffic lights and decisions were made in line with these rules. It has been decided whether pedestrians will cross the street in traffic.\n",
        "Problem Description: Determining whether pedestrians should cross the street.\n",
        "### Inputs:\n",
        "- Traffic light rules\n",
        "- Green light: Pedestrian can cross the street.\n",
        "- Red light: Pedestrian cannot cross the street.\n",
        "- Yellow light: Pedestrian must be careful.\n",
        "### Outputs:\n",
        "- Deciding whether a pedestrian should cross the street.\n"
      ],
      "metadata": {
        "id": "tTanGbolUi0l"
      }
    },
    {
      "cell_type": "markdown",
      "source": [
        "First, the required libraries are defined to the system."
      ],
      "metadata": {
        "id": "3UTIt5baVIEt"
      }
    },
    {
      "cell_type": "code",
      "execution_count": null,
      "metadata": {
        "id": "AnoDeNL2MaoH"
      },
      "outputs": [],
      "source": [
        "from random import choice\n",
        "from experta import *"
      ]
    },
    {
      "cell_type": "markdown",
      "source": [
        "\n",
        "If the experta library is not added, it can be loaded with the command given below."
      ],
      "metadata": {
        "id": "ZhE7ezbyVJpQ"
      }
    },
    {
      "cell_type": "code",
      "source": [
        "!pip install experta"
      ],
      "metadata": {
        "colab": {
          "base_uri": "https://localhost:8080/"
        },
        "id": "oX7cpKkFNnRT",
        "outputId": "1cdde2b0-a752-483b-a079-e3fee466fe70"
      },
      "execution_count": null,
      "outputs": [
        {
          "output_type": "stream",
          "name": "stdout",
          "text": [
            "Looking in indexes: https://pypi.org/simple, https://us-python.pkg.dev/colab-wheels/public/simple/\n",
            "Collecting experta\n",
            "  Downloading experta-1.9.4-py3-none-any.whl (35 kB)\n",
            "Collecting frozendict==1.2\n",
            "  Downloading frozendict-1.2.tar.gz (2.6 kB)\n",
            "  Preparing metadata (setup.py) ... \u001b[?25l\u001b[?25hdone\n",
            "Collecting schema==0.6.7\n",
            "  Downloading schema-0.6.7-py2.py3-none-any.whl (14 kB)\n",
            "Building wheels for collected packages: frozendict\n",
            "  Building wheel for frozendict (setup.py) ... \u001b[?25l\u001b[?25hdone\n",
            "  Created wheel for frozendict: filename=frozendict-1.2-py3-none-any.whl size=3166 sha256=056812917ba61e8dd5209e95b053c5f621fc43ff5a1bfa02e007cd1dc8f8c004\n",
            "  Stored in directory: /root/.cache/pip/wheels/5b/fa/ab/0a80360debb57b95f092356ee3a075bbbffc631b9813136599\n",
            "Successfully built frozendict\n",
            "Installing collected packages: schema, frozendict, experta\n",
            "  Attempting uninstall: frozendict\n",
            "    Found existing installation: frozendict 2.3.7\n",
            "    Uninstalling frozendict-2.3.7:\n",
            "      Successfully uninstalled frozendict-2.3.7\n",
            "\u001b[31mERROR: pip's dependency resolver does not currently take into account all the packages that are installed. This behaviour is the source of the following dependency conflicts.\n",
            "yfinance 0.2.18 requires frozendict>=2.3.4, but you have frozendict 1.2 which is incompatible.\u001b[0m\u001b[31m\n",
            "\u001b[0mSuccessfully installed experta-1.9.4 frozendict-1.2 schema-0.6.7\n"
          ]
        }
      ]
    },
    {
      "cell_type": "markdown",
      "source": [
        "Then a class is created with facts about traffic lights."
      ],
      "metadata": {
        "id": "USwAJWbzN4Yy"
      }
    },
    {
      "cell_type": "code",
      "source": [
        "class Isik(Fact):\n",
        "  \"\"\"trafik ışıklarıyla ilgili genel bilgiler\"\"\"\n",
        "  pass"
      ],
      "metadata": {
        "id": "-L5RSIuhN5Bc"
      },
      "execution_count": null,
      "outputs": []
    },
    {
      "cell_type": "markdown",
      "source": [
        "Then, the class where the rules will be defined is created and the rules are determined in this class in accordance with the traffic rules. Since there are three entries for the example in question, there will be 3 rules in total."
      ],
      "metadata": {
        "id": "OubBEeSfQ0SB"
      }
    },
    {
      "cell_type": "code",
      "source": [
        "class KarsidanKarsiyaGecme(KnowledgeEngine):\n",
        "  @Rule(Isik(renk=\"yesil\"))\n",
        "  def yesil_isik(self):\n",
        "    print(\"yeşil ışık yandığı için yürüyebilirsiniz\")\n",
        "  @Rule(Isik(renk=\"kirmizi\"))\n",
        "  def kirmizi_isik(self):\n",
        "    print(\"kırmızı ışık yandığı için lütfen bekleyiniz\")\n",
        "  @Rule(Isik(renk=\"sari\"))\n",
        "  def sari_isik(self):\n",
        "    print(\"sari ışık yanıyor lütfen dikkatli olunuz\") "
      ],
      "metadata": {
        "id": "NsqQjl10Oijn"
      },
      "execution_count": 7,
      "outputs": []
    },
    {
      "cell_type": "markdown",
      "source": [
        "\n",
        "As can be seen from the figure above, 3 rules have been defined. The first rule is for the light to turn green, the second rule for red and the last rule for yellow. In case the traffic light turns green, information is given that pedestrians can walk. When the red light is on, a notification is provided for pedestrians to wait. In case the yellow light is on, a warning is given to the pedestrians to be careful.\n",
        "After the rules are determined, the system is run and tested."
      ],
      "metadata": {
        "id": "1ijX20YdQ1ni"
      }
    },
    {
      "cell_type": "code",
      "source": [
        "uzman=KarsidanKarsiyaGecme()\n",
        "uzman.reset()\n",
        "uzman.declare(Isik(renk=choice([\"yesil\",\"kirmizi\",\"sari\"])))\n",
        "uzman.run()"
      ],
      "metadata": {
        "colab": {
          "base_uri": "https://localhost:8080/"
        },
        "id": "fDWv3O2IQxUC",
        "outputId": "16702b0f-2155-4b3d-de14-9760c0298b4c"
      },
      "execution_count": 8,
      "outputs": [
        {
          "output_type": "stream",
          "name": "stdout",
          "text": [
            "kırmızı ışık yandığı için lütfen bekleyiniz\n"
          ]
        }
      ]
    }
  ]
}